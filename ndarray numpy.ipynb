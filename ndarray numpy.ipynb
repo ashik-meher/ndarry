{
 "cells": [
  {
   "cell_type": "code",
   "execution_count": 4,
   "metadata": {},
   "outputs": [
    {
     "name": "stdout",
     "output_type": "stream",
     "text": [
      "[[3 2 2]\n",
      " [4 3 2]\n",
      " [4 7 5]]\n",
      "(3, 3)\n",
      "2\n",
      "Haw kaw 2\n",
      "2nd object is:\n",
      "  First element:  4 \n",
      "  Second element: 3 \n",
      "  Third element:  2\n",
      "[[0. 0.]\n",
      " [0. 0.]]\n",
      "[[3 2]\n",
      " [4 3]\n",
      " [4 7]]\n"
     ]
    }
   ],
   "source": [
    "import numpy as np\n",
    "\n",
    "objects = np.array([[3,2,2],[4,3,2],[4,7,5]])\n",
    "\n",
    "print(objects)\n",
    "print(objects.shape)\n",
    "print(objects.ndim)\n",
    "print(\"Haw kaw\",objects[1,2])\n",
    "print(\"2nd object is:\\n \",\"First element: \", objects[1,0],\"\\n  Second element:\",objects[1,1],\"\\n  Third element: \",objects[1,2])\n",
    "sobzero = np.zeros([2,2])\n",
    "print(sobzero)\n",
    "sliceob =objects[0:,:2]\n",
    "print(sliceob)"
   ]
  },
  {
   "cell_type": "markdown",
   "metadata": {},
   "source": [
    "# slicing array objects numpy"
   ]
  },
  {
   "cell_type": "code",
   "execution_count": 19,
   "metadata": {},
   "outputs": [
    {
     "name": "stdout",
     "output_type": "stream",
     "text": [
      "[[  3   2]\n",
      " [400   3]\n",
      " [  4   7]]\n"
     ]
    }
   ],
   "source": [
    "sliceob =objects[0:,:2]\n",
    "print(sliceob)"
   ]
  },
  {
   "cell_type": "code",
   "execution_count": 18,
   "metadata": {},
   "outputs": [
    {
     "name": "stdout",
     "output_type": "stream",
     "text": [
      "[[  3   2   2]\n",
      " [400   3   2]\n",
      " [  4   7   5]]\n"
     ]
    }
   ],
   "source": [
    "objects[1,0] = 400\n",
    "print(objects)"
   ]
  },
  {
   "cell_type": "code",
   "execution_count": 32,
   "metadata": {},
   "outputs": [
    {
     "name": "stdout",
     "output_type": "stream",
     "text": [
      "[[  3   2]\n",
      " [400   3]\n",
      " [  4   7]]\n"
     ]
    }
   ],
   "source": [
    "sliceob = objects[0:,:2]\n",
    "print(sliceob)"
   ]
  },
  {
   "cell_type": "markdown",
   "metadata": {},
   "source": [
    "# Slicing and assigning values to sliceed object, reference copy using(original copy not changed)\n"
   ]
  },
  {
   "cell_type": "code",
   "execution_count": 29,
   "metadata": {},
   "outputs": [
    {
     "name": "stdout",
     "output_type": "stream",
     "text": [
      "[[ 3  2]\n",
      " [40  3]\n",
      " [ 4  7]]\n",
      "[[  3   2   2]\n",
      " [400   3   2]\n",
      " [  4   7   5]]\n"
     ]
    }
   ],
   "source": [
    "sliceob = np.array(objects[0:,:2])\n",
    "sliceob[1,0] = 40\n",
    "print(sliceob)\n",
    "print(objects)\n"
   ]
  },
  {
   "cell_type": "markdown",
   "metadata": {},
   "source": [
    "# filtering with condition and printing"
   ]
  },
  {
   "cell_type": "code",
   "execution_count": 33,
   "metadata": {},
   "outputs": [
    {
     "data": {
      "text/plain": [
       "array([[ True, False, False],\n",
       "       [ True,  True, False],\n",
       "       [ True,  True,  True]])"
      ]
     },
     "execution_count": 33,
     "metadata": {},
     "output_type": "execute_result"
    }
   ],
   "source": [
    "filter = (objects > 2) \n",
    "filter"
   ]
  },
  {
   "cell_type": "code",
   "execution_count": 72,
   "metadata": {},
   "outputs": [
    {
     "name": "stdout",
     "output_type": "stream",
     "text": [
      "[  3 400   3   4   7   5]\n"
     ]
    }
   ],
   "source": [
    "print(objects[filter])"
   ]
  },
  {
   "cell_type": "code",
   "execution_count": 5,
   "metadata": {},
   "outputs": [
    {
     "name": "stdout",
     "output_type": "stream",
     "text": [
      "[[3 2 2]\n",
      " [4 3 2]\n",
      " [4 7 5]]\n"
     ]
    }
   ],
   "source": [
    "objects[(objects > 2)& (objects < 2)]\n",
    "print(objects)\n"
   ]
  },
  {
   "cell_type": "markdown",
   "metadata": {},
   "source": [
    "# data type of array"
   ]
  },
  {
   "cell_type": "code",
   "execution_count": 6,
   "metadata": {},
   "outputs": [
    {
     "name": "stdout",
     "output_type": "stream",
     "text": [
      "[[3 2 2]\n",
      " [4 3 2]\n",
      " [4 7 5]]\n"
     ]
    }
   ],
   "source": [
    "print(objects)"
   ]
  },
  {
   "cell_type": "code",
   "execution_count": 7,
   "metadata": {},
   "outputs": [
    {
     "name": "stdout",
     "output_type": "stream",
     "text": [
      "[3 2 2]\n",
      "[4 3 2]\n",
      "[4 7 5]\n"
     ]
    }
   ],
   "source": [
    "for i in objects:\n",
    "    print(i)"
   ]
  },
  {
   "cell_type": "code",
   "execution_count": 8,
   "metadata": {},
   "outputs": [
    {
     "name": "stdout",
     "output_type": "stream",
     "text": [
      "int32\n"
     ]
    }
   ],
   "source": [
    "print(objects.dtype)"
   ]
  },
  {
   "cell_type": "code",
   "execution_count": 13,
   "metadata": {},
   "outputs": [
    {
     "name": "stdout",
     "output_type": "stream",
     "text": [
      "int32\n",
      "float64\n",
      "[[2 6 7]\n",
      " [3 2 3]]\n"
     ]
    }
   ],
   "source": [
    "tcf1= np.array([[2.4,6.8,7.54],[3.4,2.4,3.5]],dtype=int)\n",
    "tcf2= np.array([[4.4,3.8,2.5],[3.3,5.4,4.5]])\n",
    "\n",
    "print(tcf1.dtype)\n",
    "print(tcf2.dtype)\n",
    "print(tcf1)\n",
    "\n",
    "\n"
   ]
  },
  {
   "cell_type": "markdown",
   "metadata": {},
   "source": [
    "# numpy statistical operations\\random,mean,"
   ]
  },
  {
   "cell_type": "code",
   "execution_count": 26,
   "metadata": {},
   "outputs": [
    {
     "name": "stdout",
     "output_type": "stream",
     "text": [
      "[[-18.89000348   1.93855212 -19.99041634   7.33280606   5.44659658]\n",
      " [-10.43741689  -3.66546095  -7.21117998  16.54036245 -13.14224203]]\n"
     ]
    }
   ],
   "source": [
    "#using random function\n",
    "arr = 10* np.random.randn(2,5)\n",
    "\n",
    "\n",
    "print(arr)\n",
    "#print(arr.shape)"
   ]
  },
  {
   "cell_type": "code",
   "execution_count": 27,
   "metadata": {},
   "outputs": [
    {
     "name": "stdout",
     "output_type": "stream",
     "text": [
      "-4.2078402463668025\n"
     ]
    }
   ],
   "source": [
    "print(arr.mean())"
   ]
  },
  {
   "cell_type": "code",
   "execution_count": 28,
   "metadata": {},
   "outputs": [
    {
     "name": "stdout",
     "output_type": "stream",
     "text": [
      "[-4.83249301 -3.58318748]\n"
     ]
    }
   ],
   "source": [
    "#for rows \n",
    "print(arr.mean(axis = 1))"
   ]
  },
  {
   "cell_type": "code",
   "execution_count": 29,
   "metadata": {},
   "outputs": [
    {
     "name": "stdout",
     "output_type": "stream",
     "text": [
      "[-14.66371019  -0.86345442 -13.60079816  11.93658425  -3.84782272]\n"
     ]
    }
   ],
   "source": [
    "#for columns\n",
    "print(arr.mean(axis = 0))"
   ]
  },
  {
   "cell_type": "code",
   "execution_count": 33,
   "metadata": {},
   "outputs": [
    {
     "name": "stdout",
     "output_type": "stream",
     "text": [
      "[-24.16246507 -17.9159374 ]\n",
      "[-29.32742038  -1.72690883 -27.20159631  23.87316851  -7.69564545]\n"
     ]
    }
   ],
   "source": [
    "ss1 = arr.sum(axis = 1)\n",
    "print(ss)\n",
    "ss2 = arr.sum(axis = 0)\n",
    "print(ss2)"
   ]
  },
  {
   "cell_type": "code",
   "execution_count": 35,
   "metadata": {},
   "outputs": [
    {
     "name": "stdout",
     "output_type": "stream",
     "text": [
      "[-14.66371019  -0.86345442 -13.60079816  11.93658425  -3.84782272]\n"
     ]
    }
   ],
   "source": [
    "medians = np.median(arr, axis = 0)\n",
    "print(medians)"
   ]
  },
  {
   "cell_type": "markdown",
   "metadata": {},
   "source": [
    "# sorting"
   ]
  },
  {
   "cell_type": "code",
   "execution_count": 42,
   "metadata": {},
   "outputs": [
    {
     "name": "stdout",
     "output_type": "stream",
     "text": [
      "[ 1.24281833  0.87072901  1.00892802  1.04018237  0.42710797 -0.20605598\n",
      "  0.02537983 -1.16942608 -0.36490916  0.0562972 ]\n"
     ]
    }
   ],
   "source": [
    "unsorted = np.random.randn(10)\n",
    "print(unsorted)"
   ]
  },
  {
   "cell_type": "code",
   "execution_count": 41,
   "metadata": {},
   "outputs": [],
   "source": [
    "#unsorted.sort()\n",
    "#print(unsorted)"
   ]
  },
  {
   "cell_type": "code",
   "execution_count": 44,
   "metadata": {},
   "outputs": [
    {
     "name": "stdout",
     "output_type": "stream",
     "text": [
      "[-1.16942608 -0.36490916 -0.20605598  0.02537983  0.0562972   0.42710797\n",
      "  0.87072901  1.00892802  1.04018237  1.24281833]\n"
     ]
    }
   ],
   "source": [
    "sorted = np.array(unsorted)\n",
    "sorted.sort()\n",
    "print(sorted)"
   ]
  },
  {
   "cell_type": "markdown",
   "metadata": {},
   "source": [
    "# uniqe element finding "
   ]
  },
  {
   "cell_type": "code",
   "execution_count": 45,
   "metadata": {},
   "outputs": [
    {
     "name": "stdout",
     "output_type": "stream",
     "text": [
      "[1 2 3 4 5 6 7 8 9]\n"
     ]
    }
   ],
   "source": [
    "baray = np.array([2,3,1,6,3,7,3,8,9,4,5,6,3,2,4,6,7,8,9,6,4,3,7])\n",
    "print(np.unique(baray))"
   ]
  },
  {
   "cell_type": "markdown",
   "metadata": {},
   "source": [
    "# set operations "
   ]
  },
  {
   "cell_type": "code",
   "execution_count": 58,
   "metadata": {},
   "outputs": [
    {
     "name": "stdout",
     "output_type": "stream",
     "text": [
      "audi\n",
      "porche\n",
      "\n",
      "\n",
      "All sales:\n",
      "audi\n",
      "fazero\n",
      "goyota\n",
      "mitsubishi\n",
      "porche\n",
      "proton\n",
      "sadi\n",
      "toyota\n",
      "\n",
      "\n",
      "mitsubishi\n",
      "sadi\n",
      "toyota\n",
      "[False  True False  True False]\n"
     ]
    }
   ],
   "source": [
    "wash_sale = np.array([\"toyota\",\"audi\",\"sadi\",\"porche\",\"mitsubishi\"])\n",
    "newy_sale = np.array([\"porche\",\"audi\",\"goyota\",\"fazero\",\"proton\"])\n",
    "\n",
    "cms = np.intersect1d(wash_sale,newy_sale)\n",
    "#print(cms)\n",
    "for car in cms:\n",
    "    print (car)\n",
    "\n",
    "print(\"\\n\")\n",
    "\n",
    "print(\"All sales:\")\n",
    "alls = np.union1d(wash_sale,newy_sale)\n",
    "#print(alls)\n",
    "for car in alls:\n",
    "    print(car)\n",
    "    \n",
    "print(\"\\n\")    \n",
    "uncs = np.setdiff1d(wash_sale,newy_sale)\n",
    "for car in uncs:\n",
    "    print(car)\n",
    "\n",
    "\n",
    "#checks if washionton car sale is sold in newyork\n",
    "differ = np.in1d(wash_sale,newy_sale)\n",
    "print(differ)\n"
   ]
  },
  {
   "cell_type": "code",
   "execution_count": null,
   "metadata": {},
   "outputs": [],
   "source": []
  },
  {
   "cell_type": "code",
   "execution_count": null,
   "metadata": {},
   "outputs": [],
   "source": []
  }
 ],
 "metadata": {
  "kernelspec": {
   "display_name": "Python 3",
   "language": "python",
   "name": "python3"
  },
  "language_info": {
   "codemirror_mode": {
    "name": "ipython",
    "version": 3
   },
   "file_extension": ".py",
   "mimetype": "text/x-python",
   "name": "python",
   "nbconvert_exporter": "python",
   "pygments_lexer": "ipython3",
   "version": "3.7.6"
  }
 },
 "nbformat": 4,
 "nbformat_minor": 4
}
